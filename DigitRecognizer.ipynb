{
 "cells": [
  {
   "cell_type": "code",
   "execution_count": 1,
   "id": "85428607",
   "metadata": {},
   "outputs": [],
   "source": [
    "import pandas as pd\n",
    "import matplotlib.pyplot as plt"
   ]
  },
  {
   "cell_type": "code",
   "execution_count": 2,
   "id": "add3b3df",
   "metadata": {},
   "outputs": [],
   "source": [
    "df = pd.read_csv('train.csv')"
   ]
  },
  {
   "cell_type": "code",
   "execution_count": 3,
   "id": "1973d3e6",
   "metadata": {},
   "outputs": [
    {
     "data": {
      "text/plain": [
       "(42000, 785)"
      ]
     },
     "execution_count": 3,
     "metadata": {},
     "output_type": "execute_result"
    }
   ],
   "source": [
    "df.shape"
   ]
  },
  {
   "cell_type": "code",
   "execution_count": 4,
   "id": "332cebeb",
   "metadata": {},
   "outputs": [],
   "source": [
    "y = df['label']\n",
    "X = df.drop('label',axis=1)"
   ]
  },
  {
   "cell_type": "code",
   "execution_count": 5,
   "id": "27fba924",
   "metadata": {},
   "outputs": [
    {
     "data": {
      "text/html": [
       "<div>\n",
       "<style scoped>\n",
       "    .dataframe tbody tr th:only-of-type {\n",
       "        vertical-align: middle;\n",
       "    }\n",
       "\n",
       "    .dataframe tbody tr th {\n",
       "        vertical-align: top;\n",
       "    }\n",
       "\n",
       "    .dataframe thead th {\n",
       "        text-align: right;\n",
       "    }\n",
       "</style>\n",
       "<table border=\"1\" class=\"dataframe\">\n",
       "  <thead>\n",
       "    <tr style=\"text-align: right;\">\n",
       "      <th></th>\n",
       "      <th>pixel0</th>\n",
       "      <th>pixel1</th>\n",
       "      <th>pixel2</th>\n",
       "      <th>pixel3</th>\n",
       "      <th>pixel4</th>\n",
       "      <th>pixel5</th>\n",
       "      <th>pixel6</th>\n",
       "      <th>pixel7</th>\n",
       "      <th>pixel8</th>\n",
       "      <th>pixel9</th>\n",
       "      <th>...</th>\n",
       "      <th>pixel774</th>\n",
       "      <th>pixel775</th>\n",
       "      <th>pixel776</th>\n",
       "      <th>pixel777</th>\n",
       "      <th>pixel778</th>\n",
       "      <th>pixel779</th>\n",
       "      <th>pixel780</th>\n",
       "      <th>pixel781</th>\n",
       "      <th>pixel782</th>\n",
       "      <th>pixel783</th>\n",
       "    </tr>\n",
       "  </thead>\n",
       "  <tbody>\n",
       "    <tr>\n",
       "      <th>0</th>\n",
       "      <td>0</td>\n",
       "      <td>0</td>\n",
       "      <td>0</td>\n",
       "      <td>0</td>\n",
       "      <td>0</td>\n",
       "      <td>0</td>\n",
       "      <td>0</td>\n",
       "      <td>0</td>\n",
       "      <td>0</td>\n",
       "      <td>0</td>\n",
       "      <td>...</td>\n",
       "      <td>0</td>\n",
       "      <td>0</td>\n",
       "      <td>0</td>\n",
       "      <td>0</td>\n",
       "      <td>0</td>\n",
       "      <td>0</td>\n",
       "      <td>0</td>\n",
       "      <td>0</td>\n",
       "      <td>0</td>\n",
       "      <td>0</td>\n",
       "    </tr>\n",
       "    <tr>\n",
       "      <th>1</th>\n",
       "      <td>0</td>\n",
       "      <td>0</td>\n",
       "      <td>0</td>\n",
       "      <td>0</td>\n",
       "      <td>0</td>\n",
       "      <td>0</td>\n",
       "      <td>0</td>\n",
       "      <td>0</td>\n",
       "      <td>0</td>\n",
       "      <td>0</td>\n",
       "      <td>...</td>\n",
       "      <td>0</td>\n",
       "      <td>0</td>\n",
       "      <td>0</td>\n",
       "      <td>0</td>\n",
       "      <td>0</td>\n",
       "      <td>0</td>\n",
       "      <td>0</td>\n",
       "      <td>0</td>\n",
       "      <td>0</td>\n",
       "      <td>0</td>\n",
       "    </tr>\n",
       "    <tr>\n",
       "      <th>2</th>\n",
       "      <td>0</td>\n",
       "      <td>0</td>\n",
       "      <td>0</td>\n",
       "      <td>0</td>\n",
       "      <td>0</td>\n",
       "      <td>0</td>\n",
       "      <td>0</td>\n",
       "      <td>0</td>\n",
       "      <td>0</td>\n",
       "      <td>0</td>\n",
       "      <td>...</td>\n",
       "      <td>0</td>\n",
       "      <td>0</td>\n",
       "      <td>0</td>\n",
       "      <td>0</td>\n",
       "      <td>0</td>\n",
       "      <td>0</td>\n",
       "      <td>0</td>\n",
       "      <td>0</td>\n",
       "      <td>0</td>\n",
       "      <td>0</td>\n",
       "    </tr>\n",
       "    <tr>\n",
       "      <th>3</th>\n",
       "      <td>0</td>\n",
       "      <td>0</td>\n",
       "      <td>0</td>\n",
       "      <td>0</td>\n",
       "      <td>0</td>\n",
       "      <td>0</td>\n",
       "      <td>0</td>\n",
       "      <td>0</td>\n",
       "      <td>0</td>\n",
       "      <td>0</td>\n",
       "      <td>...</td>\n",
       "      <td>0</td>\n",
       "      <td>0</td>\n",
       "      <td>0</td>\n",
       "      <td>0</td>\n",
       "      <td>0</td>\n",
       "      <td>0</td>\n",
       "      <td>0</td>\n",
       "      <td>0</td>\n",
       "      <td>0</td>\n",
       "      <td>0</td>\n",
       "    </tr>\n",
       "    <tr>\n",
       "      <th>4</th>\n",
       "      <td>0</td>\n",
       "      <td>0</td>\n",
       "      <td>0</td>\n",
       "      <td>0</td>\n",
       "      <td>0</td>\n",
       "      <td>0</td>\n",
       "      <td>0</td>\n",
       "      <td>0</td>\n",
       "      <td>0</td>\n",
       "      <td>0</td>\n",
       "      <td>...</td>\n",
       "      <td>0</td>\n",
       "      <td>0</td>\n",
       "      <td>0</td>\n",
       "      <td>0</td>\n",
       "      <td>0</td>\n",
       "      <td>0</td>\n",
       "      <td>0</td>\n",
       "      <td>0</td>\n",
       "      <td>0</td>\n",
       "      <td>0</td>\n",
       "    </tr>\n",
       "  </tbody>\n",
       "</table>\n",
       "<p>5 rows × 784 columns</p>\n",
       "</div>"
      ],
      "text/plain": [
       "   pixel0  pixel1  pixel2  pixel3  pixel4  pixel5  pixel6  pixel7  pixel8  \\\n",
       "0       0       0       0       0       0       0       0       0       0   \n",
       "1       0       0       0       0       0       0       0       0       0   \n",
       "2       0       0       0       0       0       0       0       0       0   \n",
       "3       0       0       0       0       0       0       0       0       0   \n",
       "4       0       0       0       0       0       0       0       0       0   \n",
       "\n",
       "   pixel9  ...  pixel774  pixel775  pixel776  pixel777  pixel778  pixel779  \\\n",
       "0       0  ...         0         0         0         0         0         0   \n",
       "1       0  ...         0         0         0         0         0         0   \n",
       "2       0  ...         0         0         0         0         0         0   \n",
       "3       0  ...         0         0         0         0         0         0   \n",
       "4       0  ...         0         0         0         0         0         0   \n",
       "\n",
       "   pixel780  pixel781  pixel782  pixel783  \n",
       "0         0         0         0         0  \n",
       "1         0         0         0         0  \n",
       "2         0         0         0         0  \n",
       "3         0         0         0         0  \n",
       "4         0         0         0         0  \n",
       "\n",
       "[5 rows x 784 columns]"
      ]
     },
     "execution_count": 5,
     "metadata": {},
     "output_type": "execute_result"
    }
   ],
   "source": [
    "X.head()"
   ]
  },
  {
   "cell_type": "code",
   "execution_count": 6,
   "id": "4c3be588",
   "metadata": {},
   "outputs": [
    {
     "data": {
      "text/plain": [
       "<matplotlib.image.AxesImage at 0x298c7611ab0>"
      ]
     },
     "execution_count": 6,
     "metadata": {},
     "output_type": "execute_result"
    },
    {
     "data": {
      "image/png": "[encoded data removed]",
      "text/plain": [
       "<Figure size 640x480 with 1 Axes>"
      ]
     },
     "metadata": {},
     "output_type": "display_data"
    }
   ],
   "source": [
    "A = X.iloc[3].values.reshape(28,28)\n",
    "plt.imshow(A)"
   ]
  },
  {
   "cell_type": "code",
   "execution_count": 7,
   "id": "a3878516",
   "metadata": {},
   "outputs": [
    {
     "data": {
      "text/plain": [
       "0        1\n",
       "1        0\n",
       "2        1\n",
       "3        4\n",
       "4        0\n",
       "        ..\n",
       "41995    0\n",
       "41996    1\n",
       "41997    7\n",
       "41998    6\n",
       "41999    9\n",
       "Name: label, Length: 42000, dtype: int64"
      ]
     },
     "execution_count": 7,
     "metadata": {},
     "output_type": "execute_result"
    }
   ],
   "source": [
    "y"
   ]
  },
  {
   "cell_type": "code",
   "execution_count": 8,
   "id": "d5a47fe3",
   "metadata": {},
   "outputs": [
    {
     "data": {
      "text/plain": [
       "(42000, 28, 28, 1)"
      ]
     },
     "execution_count": 8,
     "metadata": {},
     "output_type": "execute_result"
    }
   ],
   "source": [
    "X=X.values.reshape(42000,28,28,1)\n",
    "X.shape"
   ]
  },
  {
   "cell_type": "code",
   "execution_count": 9,
   "id": "f1481af6",
   "metadata": {},
   "outputs": [],
   "source": [
    "#Scale\n",
    "X_train=X/255"
   ]
  },
  {
   "cell_type": "code",
   "execution_count": 10,
   "id": "642c922e",
   "metadata": {},
   "outputs": [
    {
     "data": {
      "text/plain": [
       "0        1\n",
       "1        0\n",
       "2        1\n",
       "3        4\n",
       "4        0\n",
       "        ..\n",
       "41995    0\n",
       "41996    1\n",
       "41997    7\n",
       "41998    6\n",
       "41999    9\n",
       "Name: label, Length: 42000, dtype: int64"
      ]
     },
     "execution_count": 10,
     "metadata": {},
     "output_type": "execute_result"
    }
   ],
   "source": [
    "y"
   ]
  },
  {
   "cell_type": "code",
   "execution_count": 14,
   "id": "2f1740ad",
   "metadata": {},
   "outputs": [],
   "source": [
    "from tensorflow.keras.utils import to_categorical"
   ]
  },
  {
   "cell_type": "code",
   "execution_count": 15,
   "id": "64a41638",
   "metadata": {},
   "outputs": [],
   "source": [
    "ya = to_categorical(y,num_classes=10)"
   ]
  },
  {
   "cell_type": "code",
   "execution_count": 16,
   "id": "08794fdb",
   "metadata": {},
   "outputs": [
    {
     "data": {
      "text/plain": [
       "array([[0., 1., 0., 0., 0., 0., 0., 0., 0., 0.],\n",
       "       [1., 0., 0., 0., 0., 0., 0., 0., 0., 0.],\n",
       "       [0., 1., 0., 0., 0., 0., 0., 0., 0., 0.],\n",
       "       [0., 0., 0., 0., 1., 0., 0., 0., 0., 0.],\n",
       "       [1., 0., 0., 0., 0., 0., 0., 0., 0., 0.]], dtype=float32)"
      ]
     },
     "execution_count": 16,
     "metadata": {},
     "output_type": "execute_result"
    }
   ],
   "source": [
    "ya[:5]"
   ]
  },
  {
   "cell_type": "code",
   "execution_count": 17,
   "id": "b73c8c6b",
   "metadata": {},
   "outputs": [],
   "source": [
    "from tensorflow.keras.models import Sequential\n",
    "from tensorflow.keras.layers import Dense,Conv2D,MaxPool2D,Flatten"
   ]
  },
  {
   "cell_type": "code",
   "execution_count": 21,
   "id": "7d43e575",
   "metadata": {},
   "outputs": [
    {
     "name": "stdout",
     "output_type": "stream",
     "text": [
      "Epoch 1/30\n",
      "657/657 [==============================] - 16s 20ms/step - loss: 0.4875 - accuracy: 0.8466\n",
      "Epoch 2/30\n",
      "657/657 [==============================] - 14s 21ms/step - loss: 0.1264 - accuracy: 0.9612\n",
      "Epoch 3/30\n",
      "657/657 [==============================] - 14s 22ms/step - loss: 0.0873 - accuracy: 0.9730\n",
      "Epoch 4/30\n",
      "657/657 [==============================] - 14s 22ms/step - loss: 0.0673 - accuracy: 0.9792\n",
      "Epoch 5/30\n",
      "657/657 [==============================] - 14s 21ms/step - loss: 0.0556 - accuracy: 0.9829\n",
      "Epoch 6/30\n",
      "657/657 [==============================] - 14s 21ms/step - loss: 0.0482 - accuracy: 0.9844\n",
      "Epoch 7/30\n",
      "657/657 [==============================] - 15s 22ms/step - loss: 0.0427 - accuracy: 0.9863\n",
      "Epoch 8/30\n",
      "657/657 [==============================] - 14s 21ms/step - loss: 0.0378 - accuracy: 0.9883\n",
      "Epoch 9/30\n",
      "657/657 [==============================] - 14s 22ms/step - loss: 0.0328 - accuracy: 0.9898\n",
      "Epoch 10/30\n",
      "657/657 [==============================] - 14s 21ms/step - loss: 0.0295 - accuracy: 0.9906\n",
      "Epoch 11/30\n",
      "657/657 [==============================] - 15s 23ms/step - loss: 0.0264 - accuracy: 0.9917\n",
      "Epoch 12/30\n",
      "657/657 [==============================] - 14s 21ms/step - loss: 0.0244 - accuracy: 0.9921\n",
      "Epoch 13/30\n",
      "657/657 [==============================] - 14s 22ms/step - loss: 0.0220 - accuracy: 0.9927\n",
      "Epoch 14/30\n",
      "657/657 [==============================] - 14s 21ms/step - loss: 0.0192 - accuracy: 0.9937\n",
      "Epoch 15/30\n",
      "657/657 [==============================] - 15s 23ms/step - loss: 0.0172 - accuracy: 0.9945\n",
      "Epoch 16/30\n",
      "657/657 [==============================] - 14s 22ms/step - loss: 0.0156 - accuracy: 0.9948\n",
      "Epoch 17/30\n",
      "657/657 [==============================] - 14s 21ms/step - loss: 0.0141 - accuracy: 0.9959\n",
      "Epoch 18/30\n",
      "657/657 [==============================] - 15s 22ms/step - loss: 0.0137 - accuracy: 0.9954\n",
      "Epoch 19/30\n",
      "657/657 [==============================] - 15s 23ms/step - loss: 0.0119 - accuracy: 0.9961\n",
      "Epoch 20/30\n",
      "657/657 [==============================] - 14s 22ms/step - loss: 0.0113 - accuracy: 0.9963\n",
      "Epoch 21/30\n",
      "657/657 [==============================] - 15s 22ms/step - loss: 0.0097 - accuracy: 0.9970\n",
      "Epoch 22/30\n",
      "657/657 [==============================] - 14s 21ms/step - loss: 0.0092 - accuracy: 0.9970\n",
      "Epoch 23/30\n",
      "657/657 [==============================] - 15s 23ms/step - loss: 0.0085 - accuracy: 0.9972\n",
      "Epoch 24/30\n",
      "657/657 [==============================] - 15s 23ms/step - loss: 0.0082 - accuracy: 0.9973\n",
      "Epoch 25/30\n",
      "657/657 [==============================] - 14s 22ms/step - loss: 0.0077 - accuracy: 0.9975\n",
      "Epoch 26/30\n",
      "657/657 [==============================] - 14s 21ms/step - loss: 0.0067 - accuracy: 0.9981\n",
      "Epoch 27/30\n",
      "657/657 [==============================] - 14s 22ms/step - loss: 0.0064 - accuracy: 0.9981\n",
      "Epoch 28/30\n",
      "657/657 [==============================] - 14s 21ms/step - loss: 0.0063 - accuracy: 0.9981\n",
      "Epoch 29/30\n",
      "657/657 [==============================] - 15s 23ms/step - loss: 0.0061 - accuracy: 0.9983\n",
      "Epoch 30/30\n",
      "657/657 [==============================] - 15s 23ms/step - loss: 0.0052 - accuracy: 0.9983\n"
     ]
    },
    {
     "data": {
      "text/plain": [
       "<keras.src.callbacks.History at 0x2989f1a7ca0>"
      ]
     },
     "execution_count": 21,
     "metadata": {},
     "output_type": "execute_result"
    }
   ],
   "source": [
    "model = Sequential()\n",
    "model.add(Conv2D(16,(3,3),activation='relu',input_shape=(28,28,1)))\n",
    "model.add(MaxPool2D())\n",
    "model.add(Conv2D(32,(3,3),activation='relu'))\n",
    "model.add(MaxPool2D())\n",
    "model.add(Flatten())\n",
    "model.add(Dense(16,activation='relu', input_shape=(784,)))\n",
    "model.add(Dense(16,activation='relu'))\n",
    "model.add(Dense(10,activation='softmax')) # softmax gives output in probability format\n",
    "\n",
    "model.compile(loss='categorical_crossentropy', metrics=['accuracy'])\n",
    "\n",
    "model.fit(X_train,ya,epochs=30,batch_size=64)"
   ]
  },
  {
   "cell_type": "code",
   "execution_count": 22,
   "id": "49f3ea3a",
   "metadata": {},
   "outputs": [
    {
     "name": "stdout",
     "output_type": "stream",
     "text": [
      "Model: \"sequential_3\"\n",
      "_________________________________________________________________\n",
      " Layer (type)                Output Shape              Param #   \n",
      "=================================================================\n",
      " conv2d_3 (Conv2D)           (None, 26, 26, 16)        160       \n",
      "                                                                 \n",
      " max_pooling2d (MaxPooling2  (None, 13, 13, 16)        0         \n",
      " D)                                                              \n",
      "                                                                 \n",
      " conv2d_4 (Conv2D)           (None, 11, 11, 32)        4640      \n",
      "                                                                 \n",
      " max_pooling2d_1 (MaxPoolin  (None, 5, 5, 32)          0         \n",
      " g2D)                                                            \n",
      "                                                                 \n",
      " flatten (Flatten)           (None, 800)               0         \n",
      "                                                                 \n",
      " dense (Dense)               (None, 16)                12816     \n",
      "                                                                 \n",
      " dense_1 (Dense)             (None, 16)                272       \n",
      "                                                                 \n",
      " dense_2 (Dense)             (None, 10)                170       \n",
      "                                                                 \n",
      "=================================================================\n",
      "Total params: 18058 (70.54 KB)\n",
      "Trainable params: 18058 (70.54 KB)\n",
      "Non-trainable params: 0 (0.00 Byte)\n",
      "_________________________________________________________________\n"
     ]
    }
   ],
   "source": [
    "model.summary()"
   ]
  },
  {
   "cell_type": "code",
   "execution_count": 17,
   "id": "9e333f41",
   "metadata": {},
   "outputs": [
    {
     "name": "stdout",
     "output_type": "stream",
     "text": [
      "1313/1313 [==============================] - 3s 2ms/step - loss: 0.0907 - accuracy: 0.9744\n"
     ]
    },
    {
     "data": {
      "text/plain": [
       "[0.09065324813127518, 0.9744285941123962]"
      ]
     },
     "execution_count": 17,
     "metadata": {},
     "output_type": "execute_result"
    }
   ],
   "source": [
    "model.evaluate(X_train,ya)"
   ]
  },
  {
   "cell_type": "markdown",
   "id": "8b6207cb",
   "metadata": {},
   "source": [
    "# Make Predictions"
   ]
  },
  {
   "cell_type": "code",
   "execution_count": 23,
   "id": "25621eb5",
   "metadata": {},
   "outputs": [
    {
     "data": {
      "text/plain": [
       "9"
      ]
     },
     "execution_count": 23,
     "metadata": {},
     "output_type": "execute_result"
    }
   ],
   "source": [
    "A = X_train[41999].reshape(1,28,28,1)\n",
    "model.predict_on_batch(A).argmax()"
   ]
  },
  {
   "cell_type": "code",
   "execution_count": 19,
   "id": "9d617eed",
   "metadata": {},
   "outputs": [
    {
     "data": {
      "text/plain": [
       "0        1\n",
       "1        0\n",
       "2        1\n",
       "3        4\n",
       "4        0\n",
       "        ..\n",
       "41995    0\n",
       "41996    1\n",
       "41997    7\n",
       "41998    6\n",
       "41999    9\n",
       "Name: label, Length: 42000, dtype: int64"
      ]
     },
     "execution_count": 19,
     "metadata": {},
     "output_type": "execute_result"
    }
   ],
   "source": [
    "y"
   ]
  },
  {
   "cell_type": "markdown",
   "id": "395baddd",
   "metadata": {},
   "source": [
    "# Predictions on real data"
   ]
  },
  {
   "cell_type": "code",
   "execution_count": 24,
   "id": "eb48618c",
   "metadata": {},
   "outputs": [],
   "source": [
    "# Create your own handwriting in Paint\n",
    "# Read as numpy array\n",
    "import cv2 \n",
    "def get_digit(path):\n",
    "    A = cv2.imread(path, 0) # gray=0\n",
    "    A = cv2.resize(A,(28,28))\n",
    "    A = A/255\n",
    "    A = A.reshape(1,28,28,1)\n",
    "    return model.predict_on_batch(A).argmax()"
   ]
  },
  {
   "cell_type": "code",
   "execution_count": 25,
   "id": "257a9594",
   "metadata": {},
   "outputs": [],
   "source": [
    "import os"
   ]
  },
  {
   "cell_type": "code",
   "execution_count": 26,
   "id": "c33bc42b",
   "metadata": {},
   "outputs": [
    {
     "name": "stdout",
     "output_type": "stream",
     "text": [
      "Desktop/rename/0.jpg\n",
      "Desktop/rename/0.png\n",
      "Desktop/rename/00.png\n",
      "Desktop/rename/1.png\n",
      "Desktop/rename/11.png\n",
      "Desktop/rename/4.png\n",
      "Desktop/rename/44.png\n",
      "Desktop/rename/5.png\n",
      "Desktop/rename/66.png\n",
      "Desktop/rename/7.png\n"
     ]
    }
   ],
   "source": [
    "for img in os.listdir('Desktop/rename/'):\n",
    "    print('Desktop/rename/'+img)"
   ]
  },
  {
   "cell_type": "code",
   "execution_count": 27,
   "id": "f8e4c861",
   "metadata": {},
   "outputs": [
    {
     "name": "stdout",
     "output_type": "stream",
     "text": [
      "0.jpg \t 0\n",
      "0.png \t 9\n",
      "00.png \t 0\n",
      "1.png \t 1\n",
      "11.png \t 1\n",
      "4.png \t 4\n",
      "44.png \t 4\n",
      "5.png \t 5\n",
      "66.png \t 6\n",
      "7.png \t 7\n"
     ]
    }
   ],
   "source": [
    "for img in os.listdir('Desktop/rename/'):\n",
    "    y = get_digit('Desktop/rename/'+img)\n",
    "    print(img,'\\t',y)"
   ]
  },
  {
   "cell_type": "code",
   "execution_count": null,
   "id": "fea010a1",
   "metadata": {},
   "outputs": [],
   "source": []
  }
 ],
 "metadata": {
  "kernelspec": {
   "display_name": "Python [conda env:dsml25]",
   "language": "python",
   "name": "conda-env-dsml25-py"
  },
  "language_info": {
   "codemirror_mode": {
    "name": "ipython",
    "version": 3
   },
   "file_extension": ".py",
   "mimetype": "text/x-python",
   "name": "python",
   "nbconvert_exporter": "python",
   "pygments_lexer": "ipython3",
   "version": "3.10.12"
  }
 },
 "nbformat": 4,
 "nbformat_minor": 5
}
